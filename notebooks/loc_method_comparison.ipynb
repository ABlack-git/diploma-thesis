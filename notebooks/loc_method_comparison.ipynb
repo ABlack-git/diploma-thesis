{
 "cells": [
  {
   "cell_type": "code",
   "execution_count": 7,
   "id": "ab168fae-268c-49a3-841d-4e8b2d00d024",
   "metadata": {},
   "outputs": [],
   "source": [
    "import json\n",
    "import pandas as pd\n",
    "import seaborn as sns\n",
    "from dataclasses import make_dataclass"
   ]
  },
  {
   "cell_type": "code",
   "execution_count": 2,
   "id": "599b0dfe-d7f6-4fc2-ad52-61df1c6307f4",
   "metadata": {},
   "outputs": [],
   "source": [
    "def load_results(path):\n",
    "    with open(path,'r') as f:\n",
    "        results = json.load(f)\n",
    "    return results\n",
    "\n",
    "def get_accuracy(results):\n",
    "    return results['accuracy']"
   ]
  },
  {
   "cell_type": "code",
   "execution_count": 10,
   "id": "a9aa2f81-772e-4342-8fc4-42ca10b504eb",
   "metadata": {},
   "outputs": [],
   "source": [
    "paths_to_results = {\n",
    "    'kde': '/home/andrew/Documents/study/thesis/thesis-src/output/localisation-results-k60-m5-s0025.json',\n",
    "    'nn': '/home/andrew/Documents/study/thesis/thesis-src/output/localisation-results-1nn.json',\n",
    "    'avg': '/home/andrew/Documents/study/thesis/thesis-src/output/localisation-results-avg-k2.json',\n",
    "    'w_avg': '/home/andrew/Documents/study/thesis/thesis-src/output/localisation-results-wavg-k2-m15.json'\n",
    "}\n",
    "\n",
    "accuracy_by_methods = {}\n",
    "for method, path in paths_to_results.items():\n",
    "    accuracy_by_methods[method] = get_accuracy(load_results(path))"
   ]
  },
  {
   "cell_type": "code",
   "execution_count": 15,
   "id": "9368f74b-6994-4643-8f53-4ac8b08ded10",
   "metadata": {},
   "outputs": [],
   "source": [
    "Record = make_dataclass('Record', ['method', 'threshold', 'accuracy'])\n",
    "\n",
    "records = []\n",
    "for method, acc_dict in accuracy_by_methods.items():\n",
    "    for threshold, acc in acc_dict.items():\n",
    "        records.append(Record(method, threshold, acc))\n",
    "        \n",
    "df = pd.DataFrame(records)\n",
    "df=df[~df.threshold.isin(['1m', '5m'])]"
   ]
  },
  {
   "cell_type": "code",
   "execution_count": 22,
   "id": "bc1c695a-21fb-493a-a917-6a71e15453ff",
   "metadata": {},
   "outputs": [
    {
     "data": {
      "image/png": "[encoded data removed]",
      "text/plain": [
       "<Figure size 816.605x576 with 1 Axes>"
      ]
     },
     "metadata": {},
     "output_type": "display_data"
    }
   ],
   "source": [
    "sns.set_style('darkgrid')\n",
    "sns.set(font_scale=1.3)\n",
    "g=sns.catplot(data=df, hue='method', y='accuracy', x='threshold', kind='bar', height=8, aspect=10/8)\n",
    "g.set_axis_labels(y_var='Accuracy', x_var=\"Threshold\")\n",
    "g.savefig('/home/andrew/Documents/study/thesis/thesis-images/4-baseline/comparison_of_loc_methods.eps', format='eps',bbox_inches='tight')"
   ]
  },
  {
   "cell_type": "code",
   "execution_count": 17,
   "id": "48760619-a179-4ab9-939f-2eeb066a8976",
   "metadata": {},
   "outputs": [
    {
     "data": {
      "text/html": [
       "<div>\n",
       "<style scoped>\n",
       "    .dataframe tbody tr th:only-of-type {\n",
       "        vertical-align: middle;\n",
       "    }\n",
       "\n",
       "    .dataframe tbody tr th {\n",
       "        vertical-align: top;\n",
       "    }\n",
       "\n",
       "    .dataframe thead th {\n",
       "        text-align: right;\n",
       "    }\n",
       "</style>\n",
       "<table border=\"1\" class=\"dataframe\">\n",
       "  <thead>\n",
       "    <tr style=\"text-align: right;\">\n",
       "      <th>method</th>\n",
       "      <th>avg</th>\n",
       "      <th>kde</th>\n",
       "      <th>nn</th>\n",
       "      <th>w_avg</th>\n",
       "    </tr>\n",
       "    <tr>\n",
       "      <th>threshold</th>\n",
       "      <th></th>\n",
       "      <th></th>\n",
       "      <th></th>\n",
       "      <th></th>\n",
       "    </tr>\n",
       "  </thead>\n",
       "  <tbody>\n",
       "    <tr>\n",
       "      <th>100m</th>\n",
       "      <td>0.142238</td>\n",
       "      <td>0.269731</td>\n",
       "      <td>0.178231</td>\n",
       "      <td>0.150911</td>\n",
       "    </tr>\n",
       "    <tr>\n",
       "      <th>10m</th>\n",
       "      <td>0.013010</td>\n",
       "      <td>0.019514</td>\n",
       "      <td>0.024284</td>\n",
       "      <td>0.015611</td>\n",
       "    </tr>\n",
       "    <tr>\n",
       "      <th>1km</th>\n",
       "      <td>0.467910</td>\n",
       "      <td>0.523417</td>\n",
       "      <td>0.479185</td>\n",
       "      <td>0.460538</td>\n",
       "    </tr>\n",
       "    <tr>\n",
       "      <th>500m</th>\n",
       "      <td>0.330009</td>\n",
       "      <td>0.444493</td>\n",
       "      <td>0.368170</td>\n",
       "      <td>0.350824</td>\n",
       "    </tr>\n",
       "    <tr>\n",
       "      <th>5km</th>\n",
       "      <td>0.659584</td>\n",
       "      <td>0.709887</td>\n",
       "      <td>0.709887</td>\n",
       "      <td>0.666088</td>\n",
       "    </tr>\n",
       "  </tbody>\n",
       "</table>\n",
       "</div>"
      ],
      "text/plain": [
       "method          avg       kde        nn     w_avg\n",
       "threshold                                        \n",
       "100m       0.142238  0.269731  0.178231  0.150911\n",
       "10m        0.013010  0.019514  0.024284  0.015611\n",
       "1km        0.467910  0.523417  0.479185  0.460538\n",
       "500m       0.330009  0.444493  0.368170  0.350824\n",
       "5km        0.659584  0.709887  0.709887  0.666088"
      ]
     },
     "execution_count": 17,
     "metadata": {},
     "output_type": "execute_result"
    }
   ],
   "source": [
    "df.pivot(index='threshold', columns='method', values='accuracy')"
   ]
  },
  {
   "cell_type": "code",
   "execution_count": null,
   "id": "eb46128f-264d-4275-8dc6-84e4843fccf6",
   "metadata": {},
   "outputs": [],
   "source": []
  }
 ],
 "metadata": {
  "kernelspec": {
   "display_name": "Python 3 (ipykernel)",
   "language": "python",
   "name": "python3"
  },
  "language_info": {
   "codemirror_mode": {
    "name": "ipython",
    "version": 3
   },
   "file_extension": ".py",
   "mimetype": "text/x-python",
   "name": "python",
   "nbconvert_exporter": "python",
   "pygments_lexer": "ipython3",
   "version": "3.7.11"
  }
 },
 "nbformat": 4,
 "nbformat_minor": 5
}
